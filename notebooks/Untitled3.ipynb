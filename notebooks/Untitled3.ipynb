{
 "cells": [
  {
   "cell_type": "code",
   "execution_count": 2,
   "metadata": {},
   "outputs": [],
   "source": [
    "import casadi as ca"
   ]
  },
  {
   "cell_type": "code",
   "execution_count": 10,
   "metadata": {},
   "outputs": [],
   "source": [
    "x = ca.SX.sym('x')\n",
    "x3 = ca.SX.sym('x')"
   ]
  },
  {
   "cell_type": "code",
   "execution_count": 11,
   "metadata": {},
   "outputs": [
    {
     "data": {
      "text/plain": [
       "SX((x-x))"
      ]
     },
     "execution_count": 11,
     "metadata": {},
     "output_type": "execute_result"
    }
   ],
   "source": [
    "x - x3"
   ]
  },
  {
   "cell_type": "code",
   "execution_count": 12,
   "metadata": {},
   "outputs": [],
   "source": [
    "x2 = ca.SX(x)"
   ]
  },
  {
   "cell_type": "code",
   "execution_count": 6,
   "metadata": {},
   "outputs": [
    {
     "data": {
      "text/plain": [
       "SX(0)"
      ]
     },
     "execution_count": 6,
     "metadata": {},
     "output_type": "execute_result"
    }
   ],
   "source": [
    "x - x2"
   ]
  },
  {
   "cell_type": "code",
   "execution_count": 13,
   "metadata": {},
   "outputs": [
    {
     "ename": "NotImplementedError",
     "evalue": "Wrong number or type of arguments for overloaded function 'solve'.\n  Possible C/C++ prototypes are:\n    casadi::casadi_solve(casadi::MX const &,casadi::MX const &)\n    casadi::casadi_solve(casadi::MX const &,casadi::MX const &,std::string const &,casadi::Dict const &)\n    casadi::casadi_solve(casadi::Matrix< casadi_int > const &,casadi::Matrix< casadi_int > const &)\n    casadi::casadi_solve(casadi::Matrix< casadi_int > const &,casadi::Matrix< casadi_int > const &,std::string const &,casadi::Dict const &)\n    casadi::casadi_solve(casadi::Matrix< double > const &,casadi::Matrix< double > const &)\n    casadi::casadi_solve(casadi::Matrix< double > const &,casadi::Matrix< double > const &,std::string const &,casadi::Dict const &)\n    casadi::casadi_solve(casadi::Matrix< casadi::SXElem > const &,casadi::Matrix< casadi::SXElem > const &)\n    casadi::casadi_solve(casadi::Matrix< casadi::SXElem > const &,casadi::Matrix< casadi::SXElem > const &,std::string const &,casadi::Dict const &)\n",
     "output_type": "error",
     "traceback": [
      "\u001b[0;31m---------------------------------------------------------------------------\u001b[0m",
      "\u001b[0;31mNotImplementedError\u001b[0m                       Traceback (most recent call last)",
      "\u001b[0;32m<ipython-input-13-ce1eff71d44d>\u001b[0m in \u001b[0;36m<module>\u001b[0;34m()\u001b[0m\n\u001b[0;32m----> 1\u001b[0;31m \u001b[0mca\u001b[0m\u001b[0;34m.\u001b[0m\u001b[0msolve\u001b[0m\u001b[0;34m(\u001b[0m\u001b[0mx\u001b[0m \u001b[0;34m-\u001b[0m \u001b[0mx\u001b[0m\u001b[0;34m)\u001b[0m\u001b[0;34m\u001b[0m\u001b[0m\n\u001b[0m",
      "\u001b[0;32m~/anaconda3/envs/pyecca/lib/python3.6/site-packages/casadi/casadi.py\u001b[0m in \u001b[0;36msolve\u001b[0;34m(*args)\u001b[0m\n\u001b[1;32m  14183\u001b[0m \u001b[0;34m\u001b[0m\u001b[0m\n\u001b[1;32m  14184\u001b[0m     \"\"\"\n\u001b[0;32m> 14185\u001b[0;31m     \u001b[0;32mreturn\u001b[0m \u001b[0m_casadi\u001b[0m\u001b[0;34m.\u001b[0m\u001b[0msolve\u001b[0m\u001b[0;34m(\u001b[0m\u001b[0;34m*\u001b[0m\u001b[0margs\u001b[0m\u001b[0;34m)\u001b[0m\u001b[0;34m\u001b[0m\u001b[0m\n\u001b[0m\u001b[1;32m  14186\u001b[0m \u001b[0;34m\u001b[0m\u001b[0m\n\u001b[1;32m  14187\u001b[0m \u001b[0;32mdef\u001b[0m \u001b[0mpinv\u001b[0m\u001b[0;34m(\u001b[0m\u001b[0;34m*\u001b[0m\u001b[0margs\u001b[0m\u001b[0;34m)\u001b[0m \u001b[0;34m->\u001b[0m \u001b[0;34m\"casadi::Matrix< casadi::SXElem >\"\u001b[0m\u001b[0;34m:\u001b[0m\u001b[0;34m\u001b[0m\u001b[0m\n",
      "\u001b[0;31mNotImplementedError\u001b[0m: Wrong number or type of arguments for overloaded function 'solve'.\n  Possible C/C++ prototypes are:\n    casadi::casadi_solve(casadi::MX const &,casadi::MX const &)\n    casadi::casadi_solve(casadi::MX const &,casadi::MX const &,std::string const &,casadi::Dict const &)\n    casadi::casadi_solve(casadi::Matrix< casadi_int > const &,casadi::Matrix< casadi_int > const &)\n    casadi::casadi_solve(casadi::Matrix< casadi_int > const &,casadi::Matrix< casadi_int > const &,std::string const &,casadi::Dict const &)\n    casadi::casadi_solve(casadi::Matrix< double > const &,casadi::Matrix< double > const &)\n    casadi::casadi_solve(casadi::Matrix< double > const &,casadi::Matrix< double > const &,std::string const &,casadi::Dict const &)\n    casadi::casadi_solve(casadi::Matrix< casadi::SXElem > const &,casadi::Matrix< casadi::SXElem > const &)\n    casadi::casadi_solve(casadi::Matrix< casadi::SXElem > const &,casadi::Matrix< casadi::SXElem > const &,std::string const &,casadi::Dict const &)\n"
     ]
    }
   ],
   "source": [
    "ca.solve(x - x)"
   ]
  },
  {
   "cell_type": "code",
   "execution_count": null,
   "metadata": {},
   "outputs": [],
   "source": []
  }
 ],
 "metadata": {
  "kernelspec": {
   "display_name": "Python 3",
   "language": "python",
   "name": "python3"
  },
  "language_info": {
   "codemirror_mode": {
    "name": "ipython",
    "version": 3
   },
   "file_extension": ".py",
   "mimetype": "text/x-python",
   "name": "python",
   "nbconvert_exporter": "python",
   "pygments_lexer": "ipython3",
   "version": "3.6.5"
  }
 },
 "nbformat": 4,
 "nbformat_minor": 2
}
