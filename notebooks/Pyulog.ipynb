{
 "cells": [
  {
   "cell_type": "code",
   "execution_count": 1,
   "metadata": {},
   "outputs": [],
   "source": [
    "import pickle\n",
    "import pyulog\n",
    "import pandas as pd\n",
    "import os\n",
    "import h5py\n",
    "import numpy as np\n",
    "h5py.enable_ipython_completer()"
   ]
  },
  {
   "cell_type": "code",
   "execution_count": 2,
   "metadata": {},
   "outputs": [],
   "source": [
    "log = pyulog.ULog('22_35_07.ulg')"
   ]
  },
  {
   "cell_type": "code",
   "execution_count": 3,
   "metadata": {},
   "outputs": [
    {
     "data": {
      "text/plain": [
       "81.0"
      ]
     },
     "execution_count": 3,
     "metadata": {},
     "output_type": "execute_result"
    }
   ],
   "source": [
    "x = np.array([('Rex', 9, 81.0), ('Fido', 3, 27.0)], dtype=[('name', 'U10'), ('age', 'i4'), ('weight', 'f4')])\n",
    "x[0]['weight']"
   ]
  },
  {
   "cell_type": "code",
   "execution_count": 43,
   "metadata": {},
   "outputs": [],
   "source": [
    "if 'store' in locals():\n",
    "    store.close()\n",
    "store = pd.HDFStore('test.hdf5', 'w')\n",
    "\n",
    "topics = {}\n",
    "for topic in log.data_list:\n",
    "    if topic.name not in topics.keys():\n",
    "        topics[topic.name] = {}\n",
    "    topic_data = {}\n",
    "    for k in topic.data.keys():\n",
    "        if k != 'timestamp':\n",
    "            topic_data[k] = topic.data[k]\n",
    "    topic_index = pd.UInt64Index(topic.data['timestamp'], name='timestamp, us')\n",
    "    topics[topic.name][topic.multi_id] = pd.DataFrame(data=topic_data, index=topic_index)\n",
    "\n",
    "messages = []\n",
    "for message in log.logged_messages:\n",
    "    messages.append([message.timestamp, message.log_level, message.log_level_str(), message.message])\n",
    "msgs = pd.DataFrame(messages, columns=['timestamp', 'log_level', 'log_level_str', 'message']).set_index('timestamp')\n",
    "store.put('messages', msgs)\n",
    "\n",
    "for topic_name in topics.keys():\n",
    "    topic = topics[topic_name]\n",
    "    for multi_id in topic.keys():\n",
    "        store.put('/topics/{:s}/id{:d}'.format(topic_name, multi_id), topic[multi_id])\n",
    "\n",
    "store['initial_parameters'] = pd.DataFrame(log.initial_parameters, index=[0])\n",
    "store['changed_parameters'] = pd.DataFrame(log.initial_parameters, index=[0])\n",
    "\n",
    "#store['topics'] = topics\n",
    "#store['messages'] = messages\n",
    "#store['initial_parameters'] = log.initial_parameters\n",
    "#store['changed_parameters'] = log.changed_parameters\n",
    "\n",
    "#with open('test.pkl', 'wb') as f:\n",
    "#    f.write(pickle.dumps(data))\n",
    "#store.close()"
   ]
  },
  {
   "cell_type": "code",
   "execution_count": 90,
   "metadata": {},
   "outputs": [
    {
     "name": "stdout",
     "output_type": "stream",
     "text": [
      "<class 'pandas.io.pytables.HDFStore'>\n",
      "File path: test.hdf5\n",
      "/changed_parameters                              frame        (shape->[1,539])  \n",
      "/initial_parameters                              frame        (shape->[1,539])  \n",
      "/messages                                        frame        (shape->[1,3])    \n",
      "/topics/actuator_controls_0/id0                  frame        (shape->[804,9])  \n",
      "/topics/actuator_outputs/id0                     frame        (shape->[804,17]) \n",
      "/topics/actuator_outputs/id1                     frame        (shape->[804,17]) \n",
      "/topics/battery_status/id0                       frame        (shape->[163,20]) \n",
      "/topics/cpuload/id0                              frame        (shape->[82,2])   \n",
      "/topics/distance_sensor/id0                      frame        (shape->[792,7])  \n",
      "/topics/estimator_status/id0                     frame        (shape->[403,71]) \n",
      "/topics/input_rc/id0                             frame        (shape->[403,27]) \n",
      "/topics/manual_control_setpoint/id0              frame        (shape->[403,25]) \n",
      "/topics/optical_flow/id0                         frame        (shape->[792,12]) \n",
      "/topics/rate_ctrl_status/id0                     frame        (shape->[2591,7]) \n",
      "/topics/safety/id0                               frame        (shape->[3693,4]) \n",
      "/topics/sensor_combined/id0                      frame        (shape->[20334,9])\n",
      "/topics/sensor_preflight/id0                     frame        (shape->[6,3])    \n",
      "/topics/system_power/id0                         frame        (shape->[163,9])  \n",
      "/topics/telemetry_status/id0                     frame        (shape->[82,12])  \n",
      "/topics/vehicle_air_data/id0                     frame        (shape->[5557,4]) \n",
      "/topics/vehicle_attitude/id0                     frame        (shape->[2591,12])\n",
      "/topics/vehicle_attitude_setpoint/id0            frame        (shape->[804,17]) \n",
      "/topics/vehicle_gps_position/id0                 frame        (shape->[409,22]) \n",
      "/topics/vehicle_land_detected/id0                frame        (shape->[84,5])   \n",
      "/topics/vehicle_magnetometer/id0                 frame        (shape->[3680,3]) \n",
      "/topics/vehicle_rates_setpoint/id0               frame        (shape->[2591,4]) \n",
      "/topics/vehicle_status/id0                       frame        (shape->[82,22])  \n",
      "/topics/vehicle_status_flags/id0                 frame        (shape->[82,26])  \n"
     ]
    }
   ],
   "source": [
    "print(store.info())"
   ]
  },
  {
   "cell_type": "code",
   "execution_count": 101,
   "metadata": {},
   "outputs": [],
   "source": [
    "import dataclasses\n",
    "from typing import NamedTuple"
   ]
  },
  {
   "cell_type": "code",
   "execution_count": 103,
   "metadata": {},
   "outputs": [],
   "source": [
    "class Vector(NamedTuple):\n",
    "    x: float\n",
    "    y: float\n",
    "    z: float"
   ]
  },
  {
   "cell_type": "code",
   "execution_count": 104,
   "metadata": {},
   "outputs": [
    {
     "ename": "SyntaxError",
     "evalue": "unexpected EOF while parsing (<ipython-input-104-ec1974c68b42>, line 3)",
     "output_type": "error",
     "traceback": [
      "\u001b[0;36m  File \u001b[0;32m\"<ipython-input-104-ec1974c68b42>\"\u001b[0;36m, line \u001b[0;32m3\u001b[0m\n\u001b[0;31m    \u001b[0m\n\u001b[0m    ^\u001b[0m\n\u001b[0;31mSyntaxError\u001b[0m\u001b[0;31m:\u001b[0m unexpected EOF while parsing\n"
     ]
    }
   ],
   "source": [
    "@dataclass\n",
    "class Mag:\n",
    "    timestamp: int\n",
    "        "
   ]
  },
  {
   "cell_type": "code",
   "execution_count": 96,
   "metadata": {},
   "outputs": [
    {
     "data": {
      "text/plain": [
       "array(True)"
      ]
     },
     "execution_count": 96,
     "metadata": {},
     "output_type": "execute_result"
    }
   ],
   "source": [
    "np.array(1.23, dtype=bool)"
   ]
  },
  {
   "cell_type": "code",
   "execution_count": 100,
   "metadata": {},
   "outputs": [],
   "source": [
    "@dataclass\n",
    "class Mag:\n",
    "    timestamp: np.uint64\n",
    "    magnetometer_ga: np.array"
   ]
  },
  {
   "cell_type": "code",
   "execution_count": 97,
   "metadata": {},
   "outputs": [],
   "source": [
    "@dataclass\n",
    "class Msg:\n",
    "    timestamp: np.uint64\n",
    "\n",
    "@dataclass\n",
    "class Mag(Msg):\n",
    "    timestamp: np.uint64\n",
    "    magnetometer_ga: bool"
   ]
  },
  {
   "cell_type": "code",
   "execution_count": 98,
   "metadata": {},
   "outputs": [
    {
     "ename": "TypeError",
     "evalue": "'list' object is not callable",
     "output_type": "error",
     "traceback": [
      "\u001b[0;31m---------------------------------------------------------------------------\u001b[0m",
      "\u001b[0;31mTypeError\u001b[0m                                 Traceback (most recent call last)",
      "\u001b[0;32m<ipython-input-98-3ed63960d180>\u001b[0m in \u001b[0;36m<module>\u001b[0;34m()\u001b[0m\n\u001b[1;32m      1\u001b[0m np.array(1, dtype=([]\n\u001b[0;32m----> 2\u001b[0;31m     \u001b[0;34m(\u001b[0m\u001b[0mnp\u001b[0m\u001b[0;34m.\u001b[0m\u001b[0mint\u001b[0m\u001b[0;34m)\u001b[0m\u001b[0;34m\u001b[0m\u001b[0m\n\u001b[0m\u001b[1;32m      3\u001b[0m ))\n",
      "\u001b[0;31mTypeError\u001b[0m: 'list' object is not callable"
     ]
    }
   ],
   "source": [
    "np.array(1, dtype=([]\n",
    "    (np.int)\n",
    "))"
   ]
  },
  {
   "cell_type": "code",
   "execution_count": 58,
   "metadata": {},
   "outputs": [
    {
     "name": "stdout",
     "output_type": "stream",
     "text": [
      "125.88\n"
     ]
    }
   ],
   "source": [
    "from dataclasses import dataclass\n",
    "\n",
    "@dataclass\n",
    "class InventoryItem:\n",
    "    name: str\n",
    "    unit_price: float\n",
    "    quantity_on_hand: int = 0\n",
    "\n",
    "    def total_cost(self) -> float:\n",
    "        return self.unit_price * self.quantity_on_hand\n",
    "\n",
    "item = InventoryItem('hammers', 10.49, 12)\n",
    "print(item.total_cost())"
   ]
  },
  {
   "cell_type": "code",
   "execution_count": null,
   "metadata": {},
   "outputs": [],
   "source": [
    "InventoryItem()"
   ]
  },
  {
   "cell_type": "code",
   "execution_count": 45,
   "metadata": {},
   "outputs": [
    {
     "data": {
      "text/plain": [
       "timestamp, us\n",
       "185796503   -0.114525\n",
       "185818440   -0.116992\n",
       "185841440   -0.109592\n",
       "185863440   -0.116992\n",
       "185885440   -0.115758\n",
       "185908440   -0.115758\n",
       "185930440   -0.104660\n",
       "185952446   -0.104660\n",
       "185974440   -0.112059\n",
       "185996440   -0.102193\n",
       "186018440   -0.114525\n",
       "186040479   -0.110826\n",
       "186061649   -0.115758\n",
       "186084440   -0.105893\n",
       "186105440   -0.115758\n",
       "186128451   -0.110826\n",
       "186150583   -0.109592\n",
       "186172440   -0.114525\n",
       "186193440   -0.110826\n",
       "186216440   -0.114525\n",
       "186237440   -0.110826\n",
       "186260440   -0.110826\n",
       "186282440   -0.110826\n",
       "186304443   -0.113292\n",
       "186326440   -0.116992\n",
       "186348458   -0.100960\n",
       "186370700   -0.110826\n",
       "186392474   -0.110826\n",
       "186414480   -0.119458\n",
       "186436475   -0.112059\n",
       "               ...   \n",
       "266743686   -0.067664\n",
       "266767444   -0.072597\n",
       "266789440   -0.079996\n",
       "266812619   -0.078763\n",
       "266834453   -0.081229\n",
       "266856642   -0.082462\n",
       "266878440   -0.084929\n",
       "266901824   -0.075063\n",
       "266924695   -0.072597\n",
       "266946475   -0.072597\n",
       "266968751   -0.066431\n",
       "266991445   -0.078763\n",
       "267014452   -0.078763\n",
       "267036831   -0.084929\n",
       "267058452   -0.078763\n",
       "267080674   -0.086162\n",
       "267103468   -0.067664\n",
       "267125454   -0.071364\n",
       "267147522   -0.076296\n",
       "267169454   -0.070131\n",
       "267191495   -0.081229\n",
       "267212492   -0.081229\n",
       "267234492   -0.072597\n",
       "267256451   -0.082462\n",
       "267278372   -0.075063\n",
       "267299483   -0.076296\n",
       "267320476   -0.073830\n",
       "267342450   -0.079996\n",
       "267364449   -0.076296\n",
       "267390440   -0.077530\n",
       "Name: magnetometer_ga[0], Length: 3680, dtype: float32"
      ]
     },
     "execution_count": 45,
     "metadata": {},
     "output_type": "execute_result"
    }
   ],
   "source": [
    "%matplotlib inline\n",
    "store.get('/topics/vehicle_magnetometer/id0')['magnetometer_ga[0]']"
   ]
  },
  {
   "cell_type": "code",
   "execution_count": 53,
   "metadata": {},
   "outputs": [
    {
     "data": {
      "text/plain": [
       "<matplotlib.axes._subplots.AxesSubplot at 0x7f2757b71240>"
      ]
     },
     "execution_count": 53,
     "metadata": {},
     "output_type": "execute_result"
    },
    {
     "data": {
      "image/png": "[encoded data removed]",
      "text/plain": [
       "<Figure size 432x288 with 1 Axes>"
      ]
     },
     "metadata": {},
     "output_type": "display_data"
    }
   ],
   "source": [
    "store.get('/topics/vehicle_magnetometer/id0').plot()"
   ]
  },
  {
   "cell_type": "code",
   "execution_count": 14,
   "metadata": {},
   "outputs": [
    {
     "data": {
      "text/plain": [
       "array(['4418456', '52', 'WARNING', '[cei] update rate slow:      4.41081'],\n",
       "      dtype='<U36')"
      ]
     },
     "execution_count": 14,
     "metadata": {},
     "output_type": "execute_result"
    }
   ],
   "source": [
    "import numpy as np\n",
    "np.array(messages[0])"
   ]
  },
  {
   "cell_type": "code",
   "execution_count": 68,
   "metadata": {},
   "outputs": [
    {
     "name": "stdout",
     "output_type": "stream",
     "text": [
      "<class 'pandas.io.pytables.HDFStore'>\n",
      "File path: test.hdf5\n",
      "/messages                                        frame        (shape->[1,3])                                           \n",
      "/topics/actuator_controls_0/id0                  frame_table  (typ->appendable,nrows->804,ncols->8,indexers->[index])  \n",
      "/topics/actuator_outputs/id0                     frame_table  (typ->appendable,nrows->804,ncols->17,indexers->[index]) \n",
      "/topics/actuator_outputs/id1                     frame_table  (typ->appendable,nrows->804,ncols->17,indexers->[index]) \n",
      "/topics/battery_status/id0                       frame_table  (typ->appendable,nrows->163,ncols->20,indexers->[index]) \n",
      "/topics/cpuload/id0                              frame_table  (typ->appendable,nrows->82,ncols->2,indexers->[index])   \n",
      "/topics/distance_sensor/id0                      frame_table  (typ->appendable,nrows->792,ncols->7,indexers->[index])  \n",
      "/topics/estimator_status/id0                     frame_table  (typ->appendable,nrows->403,ncols->71,indexers->[index]) \n",
      "/topics/input_rc/id0                             frame_table  (typ->appendable,nrows->403,ncols->27,indexers->[index]) \n",
      "/topics/manual_control_setpoint/id0              frame_table  (typ->appendable,nrows->403,ncols->25,indexers->[index]) \n",
      "/topics/optical_flow/id0                         frame_table  (typ->appendable,nrows->792,ncols->12,indexers->[index]) \n",
      "/topics/rate_ctrl_status/id0                     frame_table  (typ->appendable,nrows->2591,ncols->7,indexers->[index]) \n",
      "/topics/safety/id0                               frame_table  (typ->appendable,nrows->3693,ncols->4,indexers->[index]) \n",
      "/topics/sensor_combined/id0                      frame_table  (typ->appendable,nrows->20334,ncols->9,indexers->[index])\n",
      "/topics/sensor_preflight/id0                     frame_table  (typ->appendable,nrows->6,ncols->3,indexers->[index])    \n",
      "/topics/system_power/id0                         frame_table  (typ->appendable,nrows->163,ncols->9,indexers->[index])  \n",
      "/topics/telemetry_status/id0                     frame_table  (typ->appendable,nrows->82,ncols->12,indexers->[index])  \n",
      "/topics/vehicle_air_data/id0                     frame_table  (typ->appendable,nrows->5557,ncols->4,indexers->[index]) \n",
      "/topics/vehicle_attitude/id0                     frame_table  (typ->appendable,nrows->2591,ncols->12,indexers->[index])\n",
      "/topics/vehicle_attitude_setpoint/id0            frame_table  (typ->appendable,nrows->804,ncols->17,indexers->[index]) \n",
      "/topics/vehicle_gps_position/id0                 frame_table  (typ->appendable,nrows->409,ncols->22,indexers->[index]) \n",
      "/topics/vehicle_land_detected/id0                frame_table  (typ->appendable,nrows->84,ncols->5,indexers->[index])   \n",
      "/topics/vehicle_magnetometer/id0                 frame_table  (typ->appendable,nrows->3680,ncols->3,indexers->[index]) \n",
      "/topics/vehicle_rates_setpoint/id0               frame_table  (typ->appendable,nrows->2591,ncols->4,indexers->[index]) \n",
      "/topics/vehicle_status/id0                       frame_table  (typ->appendable,nrows->82,ncols->22,indexers->[index])  \n",
      "/topics/vehicle_status_flags/id0                 frame_table  (typ->appendable,nrows->82,ncols->26,indexers->[index])  \n"
     ]
    }
   ],
   "source": [
    "print(store.info())"
   ]
  },
  {
   "cell_type": "code",
   "execution_count": 69,
   "metadata": {},
   "outputs": [
    {
     "data": {
      "text/html": [
       "<div>\n",
       "<style scoped>\n",
       "    .dataframe tbody tr th:only-of-type {\n",
       "        vertical-align: middle;\n",
       "    }\n",
       "\n",
       "    .dataframe tbody tr th {\n",
       "        vertical-align: top;\n",
       "    }\n",
       "\n",
       "    .dataframe thead th {\n",
       "        text-align: right;\n",
       "    }\n",
       "</style>\n",
       "<table border=\"1\" class=\"dataframe\">\n",
       "  <thead>\n",
       "    <tr style=\"text-align: right;\">\n",
       "      <th></th>\n",
       "      <th>onboard_control_sensors_present</th>\n",
       "      <th>onboard_control_sensors_enabled</th>\n",
       "      <th>onboard_control_sensors_health</th>\n",
       "      <th>nav_state</th>\n",
       "      <th>arming_state</th>\n",
       "      <th>hil_state</th>\n",
       "      <th>failsafe</th>\n",
       "      <th>system_type</th>\n",
       "      <th>system_id</th>\n",
       "      <th>component_id</th>\n",
       "      <th>...</th>\n",
       "      <th>vtol_fw_permanent_stab</th>\n",
       "      <th>in_transition_mode</th>\n",
       "      <th>in_transition_to_fw</th>\n",
       "      <th>rc_signal_lost</th>\n",
       "      <th>rc_input_mode</th>\n",
       "      <th>data_link_lost</th>\n",
       "      <th>high_latency_data_link_active</th>\n",
       "      <th>data_link_lost_counter</th>\n",
       "      <th>engine_failure</th>\n",
       "      <th>mission_failure</th>\n",
       "    </tr>\n",
       "    <tr>\n",
       "      <th>t</th>\n",
       "      <th></th>\n",
       "      <th></th>\n",
       "      <th></th>\n",
       "      <th></th>\n",
       "      <th></th>\n",
       "      <th></th>\n",
       "      <th></th>\n",
       "      <th></th>\n",
       "      <th></th>\n",
       "      <th></th>\n",
       "      <th></th>\n",
       "      <th></th>\n",
       "      <th></th>\n",
       "      <th></th>\n",
       "      <th></th>\n",
       "      <th></th>\n",
       "      <th></th>\n",
       "      <th></th>\n",
       "      <th></th>\n",
       "      <th></th>\n",
       "      <th></th>\n",
       "    </tr>\n",
       "  </thead>\n",
       "  <tbody>\n",
       "    <tr>\n",
       "      <th>185.370214</th>\n",
       "      <td>64</td>\n",
       "      <td>64</td>\n",
       "      <td>64</td>\n",
       "      <td>0</td>\n",
       "      <td>2</td>\n",
       "      <td>0</td>\n",
       "      <td>0</td>\n",
       "      <td>2</td>\n",
       "      <td>1</td>\n",
       "      <td>1</td>\n",
       "      <td>...</td>\n",
       "      <td>0</td>\n",
       "      <td>0</td>\n",
       "      <td>0</td>\n",
       "      <td>0</td>\n",
       "      <td>0</td>\n",
       "      <td>1</td>\n",
       "      <td>0</td>\n",
       "      <td>1</td>\n",
       "      <td>0</td>\n",
       "      <td>0</td>\n",
       "    </tr>\n",
       "    <tr>\n",
       "      <th>186.379933</th>\n",
       "      <td>64</td>\n",
       "      <td>64</td>\n",
       "      <td>64</td>\n",
       "      <td>0</td>\n",
       "      <td>2</td>\n",
       "      <td>0</td>\n",
       "      <td>0</td>\n",
       "      <td>2</td>\n",
       "      <td>1</td>\n",
       "      <td>1</td>\n",
       "      <td>...</td>\n",
       "      <td>0</td>\n",
       "      <td>0</td>\n",
       "      <td>0</td>\n",
       "      <td>0</td>\n",
       "      <td>0</td>\n",
       "      <td>1</td>\n",
       "      <td>0</td>\n",
       "      <td>1</td>\n",
       "      <td>0</td>\n",
       "      <td>0</td>\n",
       "    </tr>\n",
       "    <tr>\n",
       "      <th>187.384549</th>\n",
       "      <td>64</td>\n",
       "      <td>64</td>\n",
       "      <td>64</td>\n",
       "      <td>0</td>\n",
       "      <td>2</td>\n",
       "      <td>0</td>\n",
       "      <td>0</td>\n",
       "      <td>2</td>\n",
       "      <td>1</td>\n",
       "      <td>1</td>\n",
       "      <td>...</td>\n",
       "      <td>0</td>\n",
       "      <td>0</td>\n",
       "      <td>0</td>\n",
       "      <td>0</td>\n",
       "      <td>0</td>\n",
       "      <td>1</td>\n",
       "      <td>0</td>\n",
       "      <td>1</td>\n",
       "      <td>0</td>\n",
       "      <td>0</td>\n",
       "    </tr>\n",
       "    <tr>\n",
       "      <th>188.389150</th>\n",
       "      <td>64</td>\n",
       "      <td>64</td>\n",
       "      <td>64</td>\n",
       "      <td>0</td>\n",
       "      <td>2</td>\n",
       "      <td>0</td>\n",
       "      <td>0</td>\n",
       "      <td>2</td>\n",
       "      <td>1</td>\n",
       "      <td>1</td>\n",
       "      <td>...</td>\n",
       "      <td>0</td>\n",
       "      <td>0</td>\n",
       "      <td>0</td>\n",
       "      <td>0</td>\n",
       "      <td>0</td>\n",
       "      <td>1</td>\n",
       "      <td>0</td>\n",
       "      <td>1</td>\n",
       "      <td>0</td>\n",
       "      <td>0</td>\n",
       "    </tr>\n",
       "    <tr>\n",
       "      <th>189.391152</th>\n",
       "      <td>64</td>\n",
       "      <td>64</td>\n",
       "      <td>64</td>\n",
       "      <td>0</td>\n",
       "      <td>2</td>\n",
       "      <td>0</td>\n",
       "      <td>0</td>\n",
       "      <td>2</td>\n",
       "      <td>1</td>\n",
       "      <td>1</td>\n",
       "      <td>...</td>\n",
       "      <td>0</td>\n",
       "      <td>0</td>\n",
       "      <td>0</td>\n",
       "      <td>0</td>\n",
       "      <td>0</td>\n",
       "      <td>1</td>\n",
       "      <td>0</td>\n",
       "      <td>1</td>\n",
       "      <td>0</td>\n",
       "      <td>0</td>\n",
       "    </tr>\n",
       "  </tbody>\n",
       "</table>\n",
       "<p>5 rows × 22 columns</p>\n",
       "</div>"
      ],
      "text/plain": [
       "            onboard_control_sensors_present  onboard_control_sensors_enabled  \\\n",
       "t                                                                              \n",
       "185.370214                               64                               64   \n",
       "186.379933                               64                               64   \n",
       "187.384549                               64                               64   \n",
       "188.389150                               64                               64   \n",
       "189.391152                               64                               64   \n",
       "\n",
       "            onboard_control_sensors_health  nav_state  arming_state  \\\n",
       "t                                                                     \n",
       "185.370214                              64          0             2   \n",
       "186.379933                              64          0             2   \n",
       "187.384549                              64          0             2   \n",
       "188.389150                              64          0             2   \n",
       "189.391152                              64          0             2   \n",
       "\n",
       "            hil_state  failsafe  system_type  system_id  component_id  \\\n",
       "t                                                                       \n",
       "185.370214          0         0            2          1             1   \n",
       "186.379933          0         0            2          1             1   \n",
       "187.384549          0         0            2          1             1   \n",
       "188.389150          0         0            2          1             1   \n",
       "189.391152          0         0            2          1             1   \n",
       "\n",
       "                 ...         vtol_fw_permanent_stab  in_transition_mode  \\\n",
       "t                ...                                                      \n",
       "185.370214       ...                              0                   0   \n",
       "186.379933       ...                              0                   0   \n",
       "187.384549       ...                              0                   0   \n",
       "188.389150       ...                              0                   0   \n",
       "189.391152       ...                              0                   0   \n",
       "\n",
       "            in_transition_to_fw  rc_signal_lost  rc_input_mode  \\\n",
       "t                                                                \n",
       "185.370214                    0               0              0   \n",
       "186.379933                    0               0              0   \n",
       "187.384549                    0               0              0   \n",
       "188.389150                    0               0              0   \n",
       "189.391152                    0               0              0   \n",
       "\n",
       "            data_link_lost  high_latency_data_link_active  \\\n",
       "t                                                           \n",
       "185.370214               1                              0   \n",
       "186.379933               1                              0   \n",
       "187.384549               1                              0   \n",
       "188.389150               1                              0   \n",
       "189.391152               1                              0   \n",
       "\n",
       "            data_link_lost_counter  engine_failure  mission_failure  \n",
       "t                                                                    \n",
       "185.370214                       1               0                0  \n",
       "186.379933                       1               0                0  \n",
       "187.384549                       1               0                0  \n",
       "188.389150                       1               0                0  \n",
       "189.391152                       1               0                0  \n",
       "\n",
       "[5 rows x 22 columns]"
      ]
     },
     "execution_count": 69,
     "metadata": {},
     "output_type": "execute_result"
    }
   ],
   "source": [
    "store['/topics/vehicle_status/id0'].head()"
   ]
  },
  {
   "cell_type": "code",
   "execution_count": 298,
   "metadata": {},
   "outputs": [],
   "source": [
    "def sort_data(data):\n",
    "    #sort all of data for replay\n",
    "    next_index = []\n",
    "    for topic_name in data['topics'].keys():\n",
    "        for multi_id in data['topics'][topic_name].keys():\n",
    "            for i, t in enumerate(data['topics'][topic_name][multi_id].index):\n",
    "                next_index.append((t, i, topic_name, multi_id))\n",
    "    next_index = sorted(next_index, key=lambda x: x[0])\n",
    "    return next_index"
   ]
  },
  {
   "cell_type": "code",
   "execution_count": 299,
   "metadata": {},
   "outputs": [
    {
     "name": "stdout",
     "output_type": "stream",
     "text": [
      "du: cannot access 'test.pkl': No such file or directory\n"
     ]
    }
   ],
   "source": [
    "!du -hs test.pkl"
   ]
  },
  {
   "cell_type": "code",
   "execution_count": 300,
   "metadata": {},
   "outputs": [
    {
     "name": "stdout",
     "output_type": "stream",
     "text": [
      "2.2M\t22_35_07.ulg\n"
     ]
    }
   ],
   "source": [
    "!du -hs 22_35_07.ulg"
   ]
  },
  {
   "cell_type": "code",
   "execution_count": 289,
   "metadata": {},
   "outputs": [
    {
     "ename": "FileNotFoundError",
     "evalue": "[Errno 2] No such file or directory: 'test.pkl'",
     "output_type": "error",
     "traceback": [
      "\u001b[0;31m---------------------------------------------------------------------------\u001b[0m",
      "\u001b[0;31mFileNotFoundError\u001b[0m                         Traceback (most recent call last)",
      "\u001b[0;32m<ipython-input-289-aca0a84f4553>\u001b[0m in \u001b[0;36m<module>\u001b[0;34m()\u001b[0m\n\u001b[0;32m----> 1\u001b[0;31m \u001b[0;32mwith\u001b[0m \u001b[0mopen\u001b[0m\u001b[0;34m(\u001b[0m\u001b[0;34m'test.pkl'\u001b[0m\u001b[0;34m,\u001b[0m \u001b[0;34m'rb'\u001b[0m\u001b[0;34m)\u001b[0m \u001b[0;32mas\u001b[0m \u001b[0mf\u001b[0m\u001b[0;34m:\u001b[0m\u001b[0;34m\u001b[0m\u001b[0m\n\u001b[0m\u001b[1;32m      2\u001b[0m     \u001b[0mdata2\u001b[0m \u001b[0;34m=\u001b[0m \u001b[0mpickle\u001b[0m\u001b[0;34m.\u001b[0m\u001b[0mloads\u001b[0m\u001b[0;34m(\u001b[0m\u001b[0mf\u001b[0m\u001b[0;34m.\u001b[0m\u001b[0mread\u001b[0m\u001b[0;34m(\u001b[0m\u001b[0;34m)\u001b[0m\u001b[0;34m)\u001b[0m\u001b[0;34m\u001b[0m\u001b[0m\n",
      "\u001b[0;31mFileNotFoundError\u001b[0m: [Errno 2] No such file or directory: 'test.pkl'"
     ]
    }
   ],
   "source": [
    "with open('test.pkl', 'rb') as f:\n",
    "    data2 = pickle.loads(f.read())"
   ]
  },
  {
   "cell_type": "code",
   "execution_count": 302,
   "metadata": {},
   "outputs": [
    {
     "ename": "NameError",
     "evalue": "name 'data2' is not defined",
     "output_type": "error",
     "traceback": [
      "\u001b[0;31m---------------------------------------------------------------------------\u001b[0m",
      "\u001b[0;31mNameError\u001b[0m                                 Traceback (most recent call last)",
      "\u001b[0;32m<ipython-input-302-c33940485741>\u001b[0m in \u001b[0;36m<module>\u001b[0;34m()\u001b[0m\n\u001b[1;32m      1\u001b[0m \u001b[0mget_ipython\u001b[0m\u001b[0;34m(\u001b[0m\u001b[0;34m)\u001b[0m\u001b[0;34m.\u001b[0m\u001b[0mrun_line_magic\u001b[0m\u001b[0;34m(\u001b[0m\u001b[0;34m'matplotlib'\u001b[0m\u001b[0;34m,\u001b[0m \u001b[0;34m'inline'\u001b[0m\u001b[0;34m)\u001b[0m\u001b[0;34m\u001b[0m\u001b[0m\n\u001b[0;32m----> 2\u001b[0;31m \u001b[0mdata2\u001b[0m\u001b[0;34m[\u001b[0m\u001b[0;34m'topics'\u001b[0m\u001b[0;34m]\u001b[0m\u001b[0;34m[\u001b[0m\u001b[0;34m'vehicle_magnetometer'\u001b[0m\u001b[0;34m]\u001b[0m\u001b[0;34m[\u001b[0m\u001b[0;36m0\u001b[0m\u001b[0;34m]\u001b[0m\u001b[0;34m.\u001b[0m\u001b[0mplot\u001b[0m\u001b[0;34m(\u001b[0m\u001b[0;34m)\u001b[0m\u001b[0;34m\u001b[0m\u001b[0m\n\u001b[0m",
      "\u001b[0;31mNameError\u001b[0m: name 'data2' is not defined"
     ]
    }
   ],
   "source": [
    "%matplotlib inline\n",
    "data2['topics']['vehicle_magnetometer'][0].plot()"
   ]
  },
  {
   "cell_type": "code",
   "execution_count": 9,
   "metadata": {},
   "outputs": [
    {
     "name": "stdout",
     "output_type": "stream",
     "text": [
      "CPU times: user 6 µs, sys: 3 µs, total: 9 µs\n",
      "Wall time: 5.96 µs\n"
     ]
    }
   ],
   "source": [
    "%time\n",
    "next_index = sort_data(data2);"
   ]
  },
  {
   "cell_type": "code",
   "execution_count": 21,
   "metadata": {},
   "outputs": [],
   "source": [
    "#for topic in data2['topics'].keys():\n",
    "#    print(data2['topics'][topic][0].dtypes)"
   ]
  },
  {
   "cell_type": "code",
   "execution_count": 30,
   "metadata": {},
   "outputs": [
    {
     "data": {
      "text/plain": [
       "magnetometer_ga[0]    float32\n",
       "magnetometer_ga[1]    float32\n",
       "magnetometer_ga[2]    float32\n",
       "dtype: object"
      ]
     },
     "execution_count": 30,
     "metadata": {},
     "output_type": "execute_result"
    }
   ],
   "source": [
    "mag = data['topics']['vehicle_magnetometer'][0]\n",
    "mag.dtypes"
   ]
  },
  {
   "cell_type": "code",
   "execution_count": 50,
   "metadata": {},
   "outputs": [
    {
     "data": {
      "text/plain": [
       "[(267.381733, 20330, 'sensor_combined', 0),\n",
       " (267.38248799999997, 5556, 'vehicle_air_data', 0),\n",
       " (267.385768, 20331, 'sensor_combined', 0),\n",
       " (267.386887, 2590, 'vehicle_attitude', 0),\n",
       " (267.389727, 20332, 'sensor_combined', 0),\n",
       " (267.389834, 2590, 'vehicle_rates_setpoint', 0),\n",
       " (267.38989, 2590, 'rate_ctrl_status', 0),\n",
       " (267.39044, 3679, 'vehicle_magnetometer', 0),\n",
       " (267.393765, 20333, 'sensor_combined', 0),\n",
       " (267.394574, 3692, 'safety', 0)]"
      ]
     },
     "execution_count": 50,
     "metadata": {},
     "output_type": "execute_result"
    }
   ],
   "source": [
    "next_index[-10:]"
   ]
  },
  {
   "cell_type": "code",
   "execution_count": 53,
   "metadata": {},
   "outputs": [
    {
     "data": {
      "text/plain": [
       "{'timestamp': array([185796503, 185818440, 185841440, ..., 267342450, 267364449,\n",
       "        267390440], dtype=uint64),\n",
       " 'magnetometer_ga[0]': array([-0.11452515, -0.11699153, -0.10959242, ..., -0.079996  ,\n",
       "        -0.07629645, -0.07752963], dtype=float32),\n",
       " 'magnetometer_ga[1]': array([0.13816044, 0.13926683, 0.13484126, ..., 0.17245857, 0.17909692,\n",
       "        0.17909692], dtype=float32),\n",
       " 'magnetometer_ga[2]': array([0.5484296 , 0.54707825, 0.53356427, ..., 0.53761846, 0.54167265,\n",
       "        0.5389699 ], dtype=float32)}"
      ]
     },
     "execution_count": 53,
     "metadata": {},
     "output_type": "execute_result"
    }
   ],
   "source": [
    "log.data_list[0].data"
   ]
  },
  {
   "cell_type": "code",
   "execution_count": 20,
   "metadata": {},
   "outputs": [],
   "source": [
    "t_data = []\n",
    "for t, i, topic, multi_id in next_index:\n",
    "    if topic == 'vehicle_magnetometer' and multi_id == 0:\n",
    "        pass\n",
    "    elif topic == 'sensor_combined' and multi_id == 0:\n",
    "        pass\n",
    "    t_data.append(data['topics'][topic][multi_id].index[i])"
   ]
  },
  {
   "cell_type": "code",
   "execution_count": 21,
   "metadata": {},
   "outputs": [
    {
     "data": {
      "text/plain": [
       "[<matplotlib.lines.Line2D at 0x7f3f7f7ac5c0>]"
      ]
     },
     "execution_count": 21,
     "metadata": {},
     "output_type": "execute_result"
    },
    {
     "data": {
      "image/png": "[encoded data removed]",
      "text/plain": [
       "<Figure size 432x288 with 1 Axes>"
      ]
     },
     "metadata": {},
     "output_type": "display_data"
    }
   ],
   "source": [
    "import matplotlib.pyplot as plt\n",
    "plt.plot(t_data)"
   ]
  },
  {
   "cell_type": "code",
   "execution_count": 32,
   "metadata": {},
   "outputs": [],
   "source": [
    "import numpy as np"
   ]
  },
  {
   "cell_type": "code",
   "execution_count": 38,
   "metadata": {},
   "outputs": [
    {
     "data": {
      "text/plain": [
       "magnetometer_ga[0]    float32\n",
       "magnetometer_ga[1]    float32\n",
       "magnetometer_ga[2]    float32\n",
       "dtype: object"
      ]
     },
     "execution_count": 38,
     "metadata": {},
     "output_type": "execute_result"
    }
   ],
   "source": [
    "mag.dtypes"
   ]
  },
  {
   "cell_type": "code",
   "execution_count": 40,
   "metadata": {},
   "outputs": [
    {
     "data": {
      "text/html": [
       "<div>\n",
       "<style scoped>\n",
       "    .dataframe tbody tr th:only-of-type {\n",
       "        vertical-align: middle;\n",
       "    }\n",
       "\n",
       "    .dataframe tbody tr th {\n",
       "        vertical-align: top;\n",
       "    }\n",
       "\n",
       "    .dataframe thead th {\n",
       "        text-align: right;\n",
       "    }\n",
       "</style>\n",
       "<table border=\"1\" class=\"dataframe\">\n",
       "  <thead>\n",
       "    <tr style=\"text-align: right;\">\n",
       "      <th></th>\n",
       "      <th>magnetometer_ga[0]</th>\n",
       "      <th>magnetometer_ga[1]</th>\n",
       "      <th>magnetometer_ga[2]</th>\n",
       "    </tr>\n",
       "    <tr>\n",
       "      <th>t, sec</th>\n",
       "      <th></th>\n",
       "      <th></th>\n",
       "      <th></th>\n",
       "    </tr>\n",
       "  </thead>\n",
       "  <tbody>\n",
       "    <tr>\n",
       "      <th>185.796503</th>\n",
       "      <td>-0.114525</td>\n",
       "      <td>0.138160</td>\n",
       "      <td>0.548430</td>\n",
       "    </tr>\n",
       "    <tr>\n",
       "      <th>185.818440</th>\n",
       "      <td>-0.116992</td>\n",
       "      <td>0.139267</td>\n",
       "      <td>0.547078</td>\n",
       "    </tr>\n",
       "    <tr>\n",
       "      <th>185.841440</th>\n",
       "      <td>-0.109592</td>\n",
       "      <td>0.134841</td>\n",
       "      <td>0.533564</td>\n",
       "    </tr>\n",
       "    <tr>\n",
       "      <th>185.863440</th>\n",
       "      <td>-0.116992</td>\n",
       "      <td>0.144799</td>\n",
       "      <td>0.552484</td>\n",
       "    </tr>\n",
       "    <tr>\n",
       "      <th>185.885440</th>\n",
       "      <td>-0.115758</td>\n",
       "      <td>0.138160</td>\n",
       "      <td>0.526807</td>\n",
       "    </tr>\n",
       "    <tr>\n",
       "      <th>185.908440</th>\n",
       "      <td>-0.115758</td>\n",
       "      <td>0.141480</td>\n",
       "      <td>0.522753</td>\n",
       "    </tr>\n",
       "    <tr>\n",
       "      <th>185.930440</th>\n",
       "      <td>-0.104660</td>\n",
       "      <td>0.132628</td>\n",
       "      <td>0.533564</td>\n",
       "    </tr>\n",
       "    <tr>\n",
       "      <th>185.952446</th>\n",
       "      <td>-0.104660</td>\n",
       "      <td>0.142586</td>\n",
       "      <td>0.547078</td>\n",
       "    </tr>\n",
       "    <tr>\n",
       "      <th>185.974440</th>\n",
       "      <td>-0.112059</td>\n",
       "      <td>0.145905</td>\n",
       "      <td>0.552484</td>\n",
       "    </tr>\n",
       "    <tr>\n",
       "      <th>185.996440</th>\n",
       "      <td>-0.102193</td>\n",
       "      <td>0.141480</td>\n",
       "      <td>0.525456</td>\n",
       "    </tr>\n",
       "    <tr>\n",
       "      <th>186.018440</th>\n",
       "      <td>-0.114525</td>\n",
       "      <td>0.139267</td>\n",
       "      <td>0.526807</td>\n",
       "    </tr>\n",
       "    <tr>\n",
       "      <th>186.040479</th>\n",
       "      <td>-0.110826</td>\n",
       "      <td>0.139267</td>\n",
       "      <td>0.533564</td>\n",
       "    </tr>\n",
       "    <tr>\n",
       "      <th>186.061649</th>\n",
       "      <td>-0.115758</td>\n",
       "      <td>0.141480</td>\n",
       "      <td>0.538970</td>\n",
       "    </tr>\n",
       "    <tr>\n",
       "      <th>186.084440</th>\n",
       "      <td>-0.105893</td>\n",
       "      <td>0.144799</td>\n",
       "      <td>0.528159</td>\n",
       "    </tr>\n",
       "    <tr>\n",
       "      <th>186.105440</th>\n",
       "      <td>-0.115758</td>\n",
       "      <td>0.143692</td>\n",
       "      <td>0.518699</td>\n",
       "    </tr>\n",
       "    <tr>\n",
       "      <th>186.128451</th>\n",
       "      <td>-0.110826</td>\n",
       "      <td>0.140373</td>\n",
       "      <td>0.541673</td>\n",
       "    </tr>\n",
       "    <tr>\n",
       "      <th>186.150583</th>\n",
       "      <td>-0.109592</td>\n",
       "      <td>0.150331</td>\n",
       "      <td>0.530861</td>\n",
       "    </tr>\n",
       "    <tr>\n",
       "      <th>186.172440</th>\n",
       "      <td>-0.114525</td>\n",
       "      <td>0.139267</td>\n",
       "      <td>0.537618</td>\n",
       "    </tr>\n",
       "    <tr>\n",
       "      <th>186.193440</th>\n",
       "      <td>-0.110826</td>\n",
       "      <td>0.138160</td>\n",
       "      <td>0.534916</td>\n",
       "    </tr>\n",
       "    <tr>\n",
       "      <th>186.216440</th>\n",
       "      <td>-0.114525</td>\n",
       "      <td>0.133735</td>\n",
       "      <td>0.534916</td>\n",
       "    </tr>\n",
       "    <tr>\n",
       "      <th>186.237440</th>\n",
       "      <td>-0.110826</td>\n",
       "      <td>0.145905</td>\n",
       "      <td>0.528159</td>\n",
       "    </tr>\n",
       "    <tr>\n",
       "      <th>186.260440</th>\n",
       "      <td>-0.110826</td>\n",
       "      <td>0.127097</td>\n",
       "      <td>0.538970</td>\n",
       "    </tr>\n",
       "    <tr>\n",
       "      <th>186.282440</th>\n",
       "      <td>-0.110826</td>\n",
       "      <td>0.151437</td>\n",
       "      <td>0.534916</td>\n",
       "    </tr>\n",
       "    <tr>\n",
       "      <th>186.304443</th>\n",
       "      <td>-0.113292</td>\n",
       "      <td>0.145905</td>\n",
       "      <td>0.522753</td>\n",
       "    </tr>\n",
       "    <tr>\n",
       "      <th>186.326440</th>\n",
       "      <td>-0.116992</td>\n",
       "      <td>0.142586</td>\n",
       "      <td>0.532213</td>\n",
       "    </tr>\n",
       "    <tr>\n",
       "      <th>186.348458</th>\n",
       "      <td>-0.100960</td>\n",
       "      <td>0.141480</td>\n",
       "      <td>0.525456</td>\n",
       "    </tr>\n",
       "    <tr>\n",
       "      <th>186.370700</th>\n",
       "      <td>-0.110826</td>\n",
       "      <td>0.139267</td>\n",
       "      <td>0.540321</td>\n",
       "    </tr>\n",
       "    <tr>\n",
       "      <th>186.392474</th>\n",
       "      <td>-0.110826</td>\n",
       "      <td>0.140373</td>\n",
       "      <td>0.532213</td>\n",
       "    </tr>\n",
       "    <tr>\n",
       "      <th>186.414480</th>\n",
       "      <td>-0.119458</td>\n",
       "      <td>0.150331</td>\n",
       "      <td>0.544375</td>\n",
       "    </tr>\n",
       "    <tr>\n",
       "      <th>186.436475</th>\n",
       "      <td>-0.112059</td>\n",
       "      <td>0.144799</td>\n",
       "      <td>0.526807</td>\n",
       "    </tr>\n",
       "    <tr>\n",
       "      <th>...</th>\n",
       "      <td>...</td>\n",
       "      <td>...</td>\n",
       "      <td>...</td>\n",
       "    </tr>\n",
       "    <tr>\n",
       "      <th>266.743686</th>\n",
       "      <td>-0.067664</td>\n",
       "      <td>0.149224</td>\n",
       "      <td>0.518699</td>\n",
       "    </tr>\n",
       "    <tr>\n",
       "      <th>266.767444</th>\n",
       "      <td>-0.072597</td>\n",
       "      <td>0.139267</td>\n",
       "      <td>0.511942</td>\n",
       "    </tr>\n",
       "    <tr>\n",
       "      <th>266.789440</th>\n",
       "      <td>-0.079996</td>\n",
       "      <td>0.175778</td>\n",
       "      <td>0.541673</td>\n",
       "    </tr>\n",
       "    <tr>\n",
       "      <th>266.812619</th>\n",
       "      <td>-0.078763</td>\n",
       "      <td>0.172459</td>\n",
       "      <td>0.540321</td>\n",
       "    </tr>\n",
       "    <tr>\n",
       "      <th>266.834453</th>\n",
       "      <td>-0.081229</td>\n",
       "      <td>0.172459</td>\n",
       "      <td>0.538970</td>\n",
       "    </tr>\n",
       "    <tr>\n",
       "      <th>266.856642</th>\n",
       "      <td>-0.082462</td>\n",
       "      <td>0.171352</td>\n",
       "      <td>0.543024</td>\n",
       "    </tr>\n",
       "    <tr>\n",
       "      <th>266.878440</th>\n",
       "      <td>-0.084929</td>\n",
       "      <td>0.175778</td>\n",
       "      <td>0.545727</td>\n",
       "    </tr>\n",
       "    <tr>\n",
       "      <th>266.901824</th>\n",
       "      <td>-0.075063</td>\n",
       "      <td>0.149224</td>\n",
       "      <td>0.515996</td>\n",
       "    </tr>\n",
       "    <tr>\n",
       "      <th>266.924695</th>\n",
       "      <td>-0.072597</td>\n",
       "      <td>0.145905</td>\n",
       "      <td>0.510591</td>\n",
       "    </tr>\n",
       "    <tr>\n",
       "      <th>266.946475</th>\n",
       "      <td>-0.072597</td>\n",
       "      <td>0.152544</td>\n",
       "      <td>0.513293</td>\n",
       "    </tr>\n",
       "    <tr>\n",
       "      <th>266.968751</th>\n",
       "      <td>-0.066431</td>\n",
       "      <td>0.145905</td>\n",
       "      <td>0.513293</td>\n",
       "    </tr>\n",
       "    <tr>\n",
       "      <th>266.991445</th>\n",
       "      <td>-0.078763</td>\n",
       "      <td>0.172459</td>\n",
       "      <td>0.541673</td>\n",
       "    </tr>\n",
       "    <tr>\n",
       "      <th>267.014452</th>\n",
       "      <td>-0.078763</td>\n",
       "      <td>0.164714</td>\n",
       "      <td>0.537618</td>\n",
       "    </tr>\n",
       "    <tr>\n",
       "      <th>267.036831</th>\n",
       "      <td>-0.084929</td>\n",
       "      <td>0.172459</td>\n",
       "      <td>0.541673</td>\n",
       "    </tr>\n",
       "    <tr>\n",
       "      <th>267.058452</th>\n",
       "      <td>-0.078763</td>\n",
       "      <td>0.172459</td>\n",
       "      <td>0.538970</td>\n",
       "    </tr>\n",
       "    <tr>\n",
       "      <th>267.080674</th>\n",
       "      <td>-0.086162</td>\n",
       "      <td>0.171352</td>\n",
       "      <td>0.543024</td>\n",
       "    </tr>\n",
       "    <tr>\n",
       "      <th>267.103468</th>\n",
       "      <td>-0.067664</td>\n",
       "      <td>0.148118</td>\n",
       "      <td>0.507888</td>\n",
       "    </tr>\n",
       "    <tr>\n",
       "      <th>267.125454</th>\n",
       "      <td>-0.071364</td>\n",
       "      <td>0.150331</td>\n",
       "      <td>0.509239</td>\n",
       "    </tr>\n",
       "    <tr>\n",
       "      <th>267.147522</th>\n",
       "      <td>-0.076296</td>\n",
       "      <td>0.151437</td>\n",
       "      <td>0.517348</td>\n",
       "    </tr>\n",
       "    <tr>\n",
       "      <th>267.169454</th>\n",
       "      <td>-0.070131</td>\n",
       "      <td>0.152544</td>\n",
       "      <td>0.510591</td>\n",
       "    </tr>\n",
       "    <tr>\n",
       "      <th>267.191495</th>\n",
       "      <td>-0.081229</td>\n",
       "      <td>0.170246</td>\n",
       "      <td>0.541673</td>\n",
       "    </tr>\n",
       "    <tr>\n",
       "      <th>267.212492</th>\n",
       "      <td>-0.081229</td>\n",
       "      <td>0.172459</td>\n",
       "      <td>0.538970</td>\n",
       "    </tr>\n",
       "    <tr>\n",
       "      <th>267.234492</th>\n",
       "      <td>-0.072597</td>\n",
       "      <td>0.169139</td>\n",
       "      <td>0.536267</td>\n",
       "    </tr>\n",
       "    <tr>\n",
       "      <th>267.256451</th>\n",
       "      <td>-0.082462</td>\n",
       "      <td>0.169139</td>\n",
       "      <td>0.540321</td>\n",
       "    </tr>\n",
       "    <tr>\n",
       "      <th>267.278372</th>\n",
       "      <td>-0.075063</td>\n",
       "      <td>0.176884</td>\n",
       "      <td>0.543024</td>\n",
       "    </tr>\n",
       "    <tr>\n",
       "      <th>267.299483</th>\n",
       "      <td>-0.076296</td>\n",
       "      <td>0.179097</td>\n",
       "      <td>0.538970</td>\n",
       "    </tr>\n",
       "    <tr>\n",
       "      <th>267.320476</th>\n",
       "      <td>-0.073830</td>\n",
       "      <td>0.165820</td>\n",
       "      <td>0.532213</td>\n",
       "    </tr>\n",
       "    <tr>\n",
       "      <th>267.342450</th>\n",
       "      <td>-0.079996</td>\n",
       "      <td>0.172459</td>\n",
       "      <td>0.537618</td>\n",
       "    </tr>\n",
       "    <tr>\n",
       "      <th>267.364449</th>\n",
       "      <td>-0.076296</td>\n",
       "      <td>0.179097</td>\n",
       "      <td>0.541673</td>\n",
       "    </tr>\n",
       "    <tr>\n",
       "      <th>267.390440</th>\n",
       "      <td>-0.077530</td>\n",
       "      <td>0.179097</td>\n",
       "      <td>0.538970</td>\n",
       "    </tr>\n",
       "  </tbody>\n",
       "</table>\n",
       "<p>3680 rows × 3 columns</p>\n",
       "</div>"
      ],
      "text/plain": [
       "            magnetometer_ga[0]  magnetometer_ga[1]  magnetometer_ga[2]\n",
       "t, sec                                                                \n",
       "185.796503           -0.114525            0.138160            0.548430\n",
       "185.818440           -0.116992            0.139267            0.547078\n",
       "185.841440           -0.109592            0.134841            0.533564\n",
       "185.863440           -0.116992            0.144799            0.552484\n",
       "185.885440           -0.115758            0.138160            0.526807\n",
       "185.908440           -0.115758            0.141480            0.522753\n",
       "185.930440           -0.104660            0.132628            0.533564\n",
       "185.952446           -0.104660            0.142586            0.547078\n",
       "185.974440           -0.112059            0.145905            0.552484\n",
       "185.996440           -0.102193            0.141480            0.525456\n",
       "186.018440           -0.114525            0.139267            0.526807\n",
       "186.040479           -0.110826            0.139267            0.533564\n",
       "186.061649           -0.115758            0.141480            0.538970\n",
       "186.084440           -0.105893            0.144799            0.528159\n",
       "186.105440           -0.115758            0.143692            0.518699\n",
       "186.128451           -0.110826            0.140373            0.541673\n",
       "186.150583           -0.109592            0.150331            0.530861\n",
       "186.172440           -0.114525            0.139267            0.537618\n",
       "186.193440           -0.110826            0.138160            0.534916\n",
       "186.216440           -0.114525            0.133735            0.534916\n",
       "186.237440           -0.110826            0.145905            0.528159\n",
       "186.260440           -0.110826            0.127097            0.538970\n",
       "186.282440           -0.110826            0.151437            0.534916\n",
       "186.304443           -0.113292            0.145905            0.522753\n",
       "186.326440           -0.116992            0.142586            0.532213\n",
       "186.348458           -0.100960            0.141480            0.525456\n",
       "186.370700           -0.110826            0.139267            0.540321\n",
       "186.392474           -0.110826            0.140373            0.532213\n",
       "186.414480           -0.119458            0.150331            0.544375\n",
       "186.436475           -0.112059            0.144799            0.526807\n",
       "...                        ...                 ...                 ...\n",
       "266.743686           -0.067664            0.149224            0.518699\n",
       "266.767444           -0.072597            0.139267            0.511942\n",
       "266.789440           -0.079996            0.175778            0.541673\n",
       "266.812619           -0.078763            0.172459            0.540321\n",
       "266.834453           -0.081229            0.172459            0.538970\n",
       "266.856642           -0.082462            0.171352            0.543024\n",
       "266.878440           -0.084929            0.175778            0.545727\n",
       "266.901824           -0.075063            0.149224            0.515996\n",
       "266.924695           -0.072597            0.145905            0.510591\n",
       "266.946475           -0.072597            0.152544            0.513293\n",
       "266.968751           -0.066431            0.145905            0.513293\n",
       "266.991445           -0.078763            0.172459            0.541673\n",
       "267.014452           -0.078763            0.164714            0.537618\n",
       "267.036831           -0.084929            0.172459            0.541673\n",
       "267.058452           -0.078763            0.172459            0.538970\n",
       "267.080674           -0.086162            0.171352            0.543024\n",
       "267.103468           -0.067664            0.148118            0.507888\n",
       "267.125454           -0.071364            0.150331            0.509239\n",
       "267.147522           -0.076296            0.151437            0.517348\n",
       "267.169454           -0.070131            0.152544            0.510591\n",
       "267.191495           -0.081229            0.170246            0.541673\n",
       "267.212492           -0.081229            0.172459            0.538970\n",
       "267.234492           -0.072597            0.169139            0.536267\n",
       "267.256451           -0.082462            0.169139            0.540321\n",
       "267.278372           -0.075063            0.176884            0.543024\n",
       "267.299483           -0.076296            0.179097            0.538970\n",
       "267.320476           -0.073830            0.165820            0.532213\n",
       "267.342450           -0.079996            0.172459            0.537618\n",
       "267.364449           -0.076296            0.179097            0.541673\n",
       "267.390440           -0.077530            0.179097            0.538970\n",
       "\n",
       "[3680 rows x 3 columns]"
      ]
     },
     "execution_count": 40,
     "metadata": {},
     "output_type": "execute_result"
    }
   ],
   "source": [
    "mag"
   ]
  },
  {
   "cell_type": "code",
   "execution_count": null,
   "metadata": {},
   "outputs": [],
   "source": []
  }
 ],
 "metadata": {
  "kernelspec": {
   "display_name": "Python 3",
   "language": "python",
   "name": "python3"
  },
  "language_info": {
   "codemirror_mode": {
    "name": "ipython",
    "version": 3
   },
   "file_extension": ".py",
   "mimetype": "text/x-python",
   "name": "python",
   "nbconvert_exporter": "python",
   "pygments_lexer": "ipython3",
   "version": "3.6.5"
  }
 },
 "nbformat": 4,
 "nbformat_minor": 2
}
